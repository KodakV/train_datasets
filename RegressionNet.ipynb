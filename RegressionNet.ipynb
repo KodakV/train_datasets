{
  "nbformat": 4,
  "nbformat_minor": 0,
  "metadata": {
    "colab": {
      "name": "RegressionNet.ipynb",
      "provenance": [],
      "collapsed_sections": [],
      "authorship_tag": "ABX9TyNnCADd268pkO0Amn8plaJK",
      "include_colab_link": true
    },
    "kernelspec": {
      "name": "python3",
      "display_name": "Python 3"
    }
  },
  "cells": [
    {
      "cell_type": "markdown",
      "metadata": {
        "id": "view-in-github",
        "colab_type": "text"
      },
      "source": [
        "<a href=\"https://colab.research.google.com/github/KodakV/train_datasets/blob/master/RegressionNet.ipynb\" target=\"_parent\"><img src=\"https://colab.research.google.com/assets/colab-badge.svg\" alt=\"Open In Colab\"/></a>"
      ]
    },
    {
      "cell_type": "code",
      "metadata": {
        "id": "NRchr47faELc",
        "colab_type": "code",
        "colab": {
          "base_uri": "https://localhost:8080/",
          "height": 298
        },
        "outputId": "40065dbb-6a0f-4b1a-a17d-f5e000a722a3"
      },
      "source": [
        "import torch\n",
        "import matplotlib.pyplot as plt\n",
        "import pandas as pd \n",
        "\n",
        "\n",
        "class RegressionNet(torch.nn.Module):\n",
        "  def __init__(self,nn_neurons):\n",
        "    super(RegressionNet,self).__init__()\n",
        "    self.fc1=torch.nn.Linear(1,nn_neurons)\n",
        "    self.ac1=torch.nn.Sigmoid()\n",
        "    self.fc2=torch.nn.Linear(nn_neurons,nn_neurons)\n",
        "    self.ac2=torch.nn.Tanh()\n",
        "    self.fc3=torch.nn.Linear(nn_neurons,1)\n",
        "  def forward(self,x):\n",
        "    x=self.fc1(x)\n",
        "    x=self.ac1(x)\n",
        "    x=self.fc2(x)\n",
        "    x=self.ac2(x)\n",
        "    x=self.fc3(x)\n",
        "    return x\n",
        "\n",
        "def target_func(x):\n",
        "  return 2**x * torch.sin(2**-x)\n",
        "\n",
        "def loss(y_pred,target):\n",
        "  squade=(y_pred-target)**2\n",
        "  return squade.mean()\n",
        "\n",
        "def metric(y_pred,target):\n",
        "  return (y_pred-target).abs().mean()\n",
        "\n",
        "#data start\n",
        "\n",
        "x_train=torch.linspace(-10,10,100)\n",
        "y_train=target_func(x_train)\n",
        "noise=torch.randn(y_train.shape)/20\n",
        "y_train=y_train+noise\n",
        "x_train.unsqueeze_(1)\n",
        "y_train.unsqueeze_(1)\n",
        "\n",
        "x_validation=torch.linspace(-10,10,100)\n",
        "y_validation=target_func(x_validation)\n",
        "x_validation.unsqueeze_(1)\n",
        "y_validation.unsqueeze_(1)\n",
        "#data end\n",
        "net=RegressionNet(30)\n",
        "optimizer=torch.optim.Adam(net.parameters(),lr=0.05)\n",
        "for epochs_index in range(1500):\n",
        "  optimizer.zero_grad()\n",
        "  y_pred=net.forward(x_train)\n",
        "  loss_value=loss(y_pred,y_train)\n",
        "  loss_value.backward()\n",
        "\n",
        "  optimizer.step()\n",
        "\n",
        "print(metric(net.forward(x_validation),y_validation))\n",
        "\n",
        "x_func=torch.linspace(-10,10,1000)\n",
        "plt.plot(x_func.numpy(),target_func(x_func))\n",
        "plt.plot(x_validation.numpy(),target_func(x_validation))\n"
      ],
      "execution_count": null,
      "outputs": [
        {
          "output_type": "stream",
          "text": [
            "tensor(0.0193, grad_fn=<MeanBackward0>)\n"
          ],
          "name": "stdout"
        },
        {
          "output_type": "execute_result",
          "data": {
            "text/plain": [
              "[<matplotlib.lines.Line2D at 0x7f0532c3b0f0>]"
            ]
          },
          "metadata": {
            "tags": []
          },
          "execution_count": 47
        },
        {
          "output_type": "display_data",
          "data": {
            "image/png": "[encoded data removed]",
            "text/plain": [
              "<Figure size 432x288 with 1 Axes>"
            ]
          },
          "metadata": {
            "tags": [],
            "needs_background": "light"
          }
        }
      ]
    }
  ]
}