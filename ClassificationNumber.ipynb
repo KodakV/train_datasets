{
  "nbformat": 4,
  "nbformat_minor": 0,
  "metadata": {
    "colab": {
      "name": "ClassificationNumber.ipynb",
      "provenance": [],
      "collapsed_sections": [],
      "authorship_tag": "ABX9TyM59qFvvv6JXZ3SqyalUQbP",
      "include_colab_link": true
    },
    "kernelspec": {
      "name": "python3",
      "display_name": "Python 3"
    },
    "accelerator": "GPU"
  },
  "cells": [
    {
      "cell_type": "markdown",
      "metadata": {
        "id": "view-in-github",
        "colab_type": "text"
      },
      "source": [
        "<a href=\"https://colab.research.google.com/github/KodakV/train_datasets/blob/master/ClassificationNumber.ipynb\" target=\"_parent\"><img src=\"https://colab.research.google.com/assets/colab-badge.svg\" alt=\"Open In Colab\"/></a>"
      ]
    },
    {
      "cell_type": "code",
      "metadata": {
        "id": "VpXg2ddIenBR",
        "colab_type": "code",
        "colab": {}
      },
      "source": [
        "import numpy as np\n",
        "import random\n",
        "import torch\n",
        "random.seed(0)\n",
        "np.random.seed(0)\n",
        "torch.manual_seed(0)\n",
        "torch.cuda.manual_seed(0)\n",
        "torch.backends.cudnn.deteministic=True"
      ],
      "execution_count": null,
      "outputs": []
    },
    {
      "cell_type": "code",
      "metadata": {
        "id": "JABFeqgazddX",
        "colab_type": "code",
        "colab": {
          "base_uri": "https://localhost:8080/",
          "height": 34
        },
        "outputId": "f081830e-a20e-4d86-9856-30c4a8329d46"
      },
      "source": [
        "torch.cuda.is_available()"
      ],
      "execution_count": null,
      "outputs": [
        {
          "output_type": "execute_result",
          "data": {
            "text/plain": [
              "True"
            ]
          },
          "metadata": {
            "tags": []
          },
          "execution_count": 140
        }
      ]
    },
    {
      "cell_type": "code",
      "metadata": {
        "id": "8-3sYcPrznIN",
        "colab_type": "code",
        "colab": {
          "base_uri": "https://localhost:8080/",
          "height": 561
        },
        "outputId": "db1bca79-af6f-44f5-db59-46c479894b88"
      },
      "source": [
        "!nvidia-smi\n"
      ],
      "execution_count": null,
      "outputs": [
        {
          "output_type": "stream",
          "text": [
            "Thu May 28 21:03:31 2020       \n",
            "+-----------------------------------------------------------------------------+\n",
            "| NVIDIA-SMI 440.82       Driver Version: 418.67       CUDA Version: 10.1     |\n",
            "|-------------------------------+----------------------+----------------------+\n",
            "| GPU  Name        Persistence-M| Bus-Id        Disp.A | Volatile Uncorr. ECC |\n",
            "| Fan  Temp  Perf  Pwr:Usage/Cap|         Memory-Usage | GPU-Util  Compute M. |\n",
            "|===============================+======================+======================|\n",
            "|   0  Tesla P100-PCIE...  Off  | 00000000:00:04.0 Off |                    0 |\n",
            "| N/A   37C    P0    31W / 250W |   7729MiB / 16280MiB |      0%      Default |\n",
            "+-------------------------------+----------------------+----------------------+\n",
            "                                                                               \n",
            "+-----------------------------------------------------------------------------+\n",
            "| Processes:                                                       GPU Memory |\n",
            "|  GPU       PID   Type   Process name                             Usage      |\n",
            "|=============================================================================|\n",
            "+-----------------------------------------------------------------------------+\n",
            "Thu May 28 21:03:34 2020       \n",
            "+-----------------------------------------------------------------------------+\n",
            "| NVIDIA-SMI 440.82       Driver Version: 418.67       CUDA Version: 10.1     |\n",
            "|-------------------------------+----------------------+----------------------+\n",
            "| GPU  Name        Persistence-M| Bus-Id        Disp.A | Volatile Uncorr. ECC |\n",
            "| Fan  Temp  Perf  Pwr:Usage/Cap|         Memory-Usage | GPU-Util  Compute M. |\n",
            "|===============================+======================+======================|\n",
            "|   0  Tesla P100-PCIE...  Off  | 00000000:00:04.0 Off |                    0 |\n",
            "| N/A   36C    P0    30W / 250W |   7729MiB / 16280MiB |      0%      Default |\n",
            "+-------------------------------+----------------------+----------------------+\n",
            "                                                                               \n",
            "+-----------------------------------------------------------------------------+\n",
            "| Processes:                                                       GPU Memory |\n",
            "|  GPU       PID   Type   Process name                             Usage      |\n",
            "|=============================================================================|\n",
            "+-----------------------------------------------------------------------------+\n"
          ],
          "name": "stdout"
        }
      ]
    },
    {
      "cell_type": "code",
      "metadata": {
        "id": "b5i8Onj6e4b7",
        "colab_type": "code",
        "colab": {}
      },
      "source": [
        "import torchvision.datasets\n",
        "\n",
        "MNIST_train=torchvision.datasets.MNIST('./', download=True,train=True)\n",
        "MNIST_test=torchvision.datasets.MNIST('./',download=True, train=False)\n",
        "\n"
      ],
      "execution_count": null,
      "outputs": []
    },
    {
      "cell_type": "code",
      "metadata": {
        "id": "E0dXrz6gfR4U",
        "colab_type": "code",
        "colab": {
          "base_uri": "https://localhost:8080/",
          "height": 289
        },
        "outputId": "08d824f3-bbf5-4067-946b-54adfb979b76"
      },
      "source": [
        "X_train=MNIST_train.train_data\n",
        "y_train=MNIST_train.train_labels\n",
        "\n",
        "X_test=MNIST_test.test_data\n",
        "y_test=MNIST_test.test_labels"
      ],
      "execution_count": null,
      "outputs": [
        {
          "output_type": "stream",
          "text": [
            "/usr/local/lib/python3.6/dist-packages/torchvision/datasets/mnist.py:55: UserWarning: train_data has been renamed data\n",
            "  warnings.warn(\"train_data has been renamed data\")\n",
            "/usr/local/lib/python3.6/dist-packages/torchvision/datasets/mnist.py:45: UserWarning: train_labels has been renamed targets\n",
            "  warnings.warn(\"train_labels has been renamed targets\")\n",
            "/usr/local/lib/python3.6/dist-packages/torchvision/datasets/mnist.py:60: UserWarning: test_data has been renamed data\n",
            "  warnings.warn(\"test_data has been renamed data\")\n",
            "/usr/local/lib/python3.6/dist-packages/torchvision/datasets/mnist.py:50: UserWarning: test_labels has been renamed targets\n",
            "  warnings.warn(\"test_labels has been renamed targets\")\n",
            "/usr/local/lib/python3.6/dist-packages/torchvision/datasets/mnist.py:55: UserWarning: train_data has been renamed data\n",
            "  warnings.warn(\"train_data has been renamed data\")\n",
            "/usr/local/lib/python3.6/dist-packages/torchvision/datasets/mnist.py:45: UserWarning: train_labels has been renamed targets\n",
            "  warnings.warn(\"train_labels has been renamed targets\")\n",
            "/usr/local/lib/python3.6/dist-packages/torchvision/datasets/mnist.py:60: UserWarning: test_data has been renamed data\n",
            "  warnings.warn(\"test_data has been renamed data\")\n",
            "/usr/local/lib/python3.6/dist-packages/torchvision/datasets/mnist.py:50: UserWarning: test_labels has been renamed targets\n",
            "  warnings.warn(\"test_labels has been renamed targets\")\n"
          ],
          "name": "stderr"
        }
      ]
    },
    {
      "cell_type": "code",
      "metadata": {
        "id": "QVKWKRA1fpDv",
        "colab_type": "code",
        "colab": {}
      },
      "source": [
        "X_train=X_train.float()\n",
        "X_test=X_test.float()"
      ],
      "execution_count": null,
      "outputs": []
    },
    {
      "cell_type": "code",
      "metadata": {
        "id": "l5hMmRyDfwwZ",
        "colab_type": "code",
        "colab": {
          "base_uri": "https://localhost:8080/",
          "height": 513
        },
        "outputId": "cd0171e8-87ae-4112-f114-335a69088710"
      },
      "source": [
        "#рисование картинок\n",
        "import matplotlib.pyplot as plt\n",
        "plt.imshow(X_train[0,:,:])\n",
        "plt.show()"
      ],
      "execution_count": null,
      "outputs": [
        {
          "output_type": "display_data",
          "data": {
            "image/png": "[encoded data removed]",
            "text/plain": [
              "<Figure size 432x288 with 1 Axes>"
            ]
          },
          "metadata": {
            "tags": [],
            "needs_background": "light"
          }
        },
        {
          "output_type": "display_data",
          "data": {
            "image/png": "[encoded data removed]",
            "text/plain": [
              "<Figure size 432x288 with 1 Axes>"
            ]
          },
          "metadata": {
            "tags": [],
            "needs_background": "light"
          }
        }
      ]
    },
    {
      "cell_type": "code",
      "metadata": {
        "id": "5M9A5SlrgT87",
        "colab_type": "code",
        "colab": {}
      },
      "source": [
        "X_train=X_train.reshape([-1,28*28])\n",
        "X_test=X_test.reshape([-1,28*28])"
      ],
      "execution_count": null,
      "outputs": []
    },
    {
      "cell_type": "code",
      "metadata": {
        "id": "wbWSrY05hHGn",
        "colab_type": "code",
        "colab": {}
      },
      "source": [
        "class MNISTNet(torch.nn.Module):\n",
        "    def __init__(self, n_hidden_neurons):\n",
        "        super(MNISTNet, self).__init__()\n",
        "        self.fc1 = torch.nn.Linear(28 * 28, n_hidden_neurons)\n",
        "        self.ac1 = torch.nn.Sigmoid()\n",
        "        self.fc2 = torch.nn.Linear(n_hidden_neurons, 10) \n",
        "    \n",
        "    def forward(self, x):\n",
        "        x = self.fc1(x)\n",
        "        x = self.ac1(x)\n",
        "        x = self.fc2(x)\n",
        "        return x\n",
        "    \n",
        "mnist_net = MNISTNet(100)\n",
        "\n",
        "loss=torch.nn.CrossEntropyLoss()\n",
        "optimizer=torch.optim.Adam(mnist_net.parameters(),lr=0.001)\n"
      ],
      "execution_count": null,
      "outputs": []
    },
    {
      "cell_type": "code",
      "metadata": {
        "id": "9OBAFghn0KRe",
        "colab_type": "code",
        "colab": {}
      },
      "source": [
        "device=torch.device('cuda:0' if torch.cuda.is_available() else 'cpu')\n",
        "mnist_net=mnist_net.to(device)\n",
        "list(mnist_net.parameters())"
      ],
      "execution_count": null,
      "outputs": []
    },
    {
      "cell_type": "code",
      "metadata": {
        "id": "wxbGLZ0aFUJq",
        "colab_type": "code",
        "colab": {
          "base_uri": "https://localhost:8080/",
          "height": 1000
        },
        "outputId": "ab8892fc-5429-4508-dea6-e617ab33d59b"
      },
      "source": [
        "batch_size = 100\n",
        "\n",
        "test_accuracy_history = []\n",
        "test_loss_history = []\n",
        "\n",
        "train_accuracy_history = []\n",
        "train_loss_history = []\n",
        "\n",
        "\n",
        "X_test = X_test.to(device)\n",
        "y_test = y_test.to(device)\n",
        "X_train=X_train.to(device)\n",
        "y_train=y_train.to(device)\n",
        "\n",
        "for epoch in range(10000):\n",
        "    order = np.random.permutation(len(X_train))\n",
        "    \n",
        "    for start_index in range(0, len(X_train), batch_size):\n",
        "        optimizer.zero_grad()\n",
        "        \n",
        "        batch_indexes = order[start_index:start_index+batch_size]\n",
        "        \n",
        "        X_batch = X_train[batch_indexes].to(device)\n",
        "        y_batch = y_train[batch_indexes].to(device)\n",
        "        \n",
        "        preds = mnist_net.forward(X_batch) \n",
        "        \n",
        "        loss_value = loss(preds, y_batch)\n",
        "        loss_value.backward()\n",
        "        \n",
        "        optimizer.step()\n",
        "\n",
        "    test_preds = mnist_net.forward(X_test)\n",
        "    test_loss_history.append(loss(test_preds, y_test))\n",
        "    \n",
        "    train_preds = mnist_net.forward(X_train)\n",
        "    train_loss_history.append(loss(train_preds, y_train))\n",
        "    \n",
        "    accuracy_test = (test_preds.argmax(dim=1) == y_test).float().mean()\n",
        "    accuracy_train = (train_preds.argmax(dim=1) == y_train).float().mean()\n",
        "    test_accuracy_history.append(accuracy_test)\n",
        "    train_accuracy_history.append(accuracy_train)\n",
        "    print(accuracy_test)"
      ],
      "execution_count": null,
      "outputs": [
        {
          "output_type": "stream",
          "text": [
            "tensor(0.9105, device='cuda:0')\n",
            "tensor(0.9071, device='cuda:0')\n",
            "tensor(0.9141, device='cuda:0')\n",
            "tensor(0.9213, device='cuda:0')\n",
            "tensor(0.9238, device='cuda:0')\n",
            "tensor(0.9245, device='cuda:0')\n",
            "tensor(0.9251, device='cuda:0')\n",
            "tensor(0.9269, device='cuda:0')\n",
            "tensor(0.9245, device='cuda:0')\n",
            "tensor(0.9323, device='cuda:0')\n",
            "tensor(0.9309, device='cuda:0')\n",
            "tensor(0.9335, device='cuda:0')\n",
            "tensor(0.9389, device='cuda:0')\n",
            "tensor(0.9344, device='cuda:0')\n",
            "tensor(0.9358, device='cuda:0')\n",
            "tensor(0.9389, device='cuda:0')\n",
            "tensor(0.9377, device='cuda:0')\n",
            "tensor(0.9316, device='cuda:0')\n",
            "tensor(0.9358, device='cuda:0')\n",
            "tensor(0.9424, device='cuda:0')\n",
            "tensor(0.9423, device='cuda:0')\n",
            "tensor(0.9425, device='cuda:0')\n",
            "tensor(0.9445, device='cuda:0')\n",
            "tensor(0.9451, device='cuda:0')\n",
            "tensor(0.9440, device='cuda:0')\n",
            "tensor(0.9426, device='cuda:0')\n",
            "tensor(0.9478, device='cuda:0')\n",
            "tensor(0.9432, device='cuda:0')\n",
            "tensor(0.9454, device='cuda:0')\n",
            "tensor(0.9461, device='cuda:0')\n",
            "tensor(0.9425, device='cuda:0')\n",
            "tensor(0.9497, device='cuda:0')\n",
            "tensor(0.9446, device='cuda:0')\n",
            "tensor(0.9443, device='cuda:0')\n",
            "tensor(0.9442, device='cuda:0')\n",
            "tensor(0.9434, device='cuda:0')\n",
            "tensor(0.9472, device='cuda:0')\n",
            "tensor(0.9507, device='cuda:0')\n",
            "tensor(0.9442, device='cuda:0')\n",
            "tensor(0.9511, device='cuda:0')\n",
            "tensor(0.9501, device='cuda:0')\n",
            "tensor(0.9504, device='cuda:0')\n",
            "tensor(0.9472, device='cuda:0')\n",
            "tensor(0.9490, device='cuda:0')\n",
            "tensor(0.9503, device='cuda:0')\n",
            "tensor(0.9507, device='cuda:0')\n",
            "tensor(0.9471, device='cuda:0')\n",
            "tensor(0.9524, device='cuda:0')\n",
            "tensor(0.9532, device='cuda:0')\n",
            "tensor(0.9499, device='cuda:0')\n",
            "tensor(0.9516, device='cuda:0')\n",
            "tensor(0.9527, device='cuda:0')\n",
            "tensor(0.9518, device='cuda:0')\n",
            "tensor(0.9521, device='cuda:0')\n",
            "tensor(0.9520, device='cuda:0')\n",
            "tensor(0.9490, device='cuda:0')\n",
            "tensor(0.9515, device='cuda:0')\n",
            "tensor(0.9553, device='cuda:0')\n",
            "tensor(0.9541, device='cuda:0')\n",
            "tensor(0.9505, device='cuda:0')\n",
            "tensor(0.9523, device='cuda:0')\n",
            "tensor(0.9513, device='cuda:0')\n",
            "tensor(0.9523, device='cuda:0')\n",
            "tensor(0.9520, device='cuda:0')\n",
            "tensor(0.9524, device='cuda:0')\n",
            "tensor(0.9558, device='cuda:0')\n",
            "tensor(0.9548, device='cuda:0')\n",
            "tensor(0.9507, device='cuda:0')\n",
            "tensor(0.9496, device='cuda:0')\n",
            "tensor(0.9476, device='cuda:0')\n",
            "tensor(0.9494, device='cuda:0')\n",
            "tensor(0.9546, device='cuda:0')\n"
          ],
          "name": "stdout"
        },
        {
          "output_type": "error",
          "ename": "KeyboardInterrupt",
          "evalue": "ignored",
          "traceback": [
            "\u001b[0;31m---------------------------------------------------------------------------\u001b[0m",
            "\u001b[0;31mKeyboardInterrupt\u001b[0m                         Traceback (most recent call last)",
            "\u001b[0;32m<ipython-input-149-2549fee19605>\u001b[0m in \u001b[0;36m<module>\u001b[0;34m()\u001b[0m\n\u001b[1;32m     29\u001b[0m         \u001b[0mloss_value\u001b[0m\u001b[0;34m.\u001b[0m\u001b[0mbackward\u001b[0m\u001b[0;34m(\u001b[0m\u001b[0;34m)\u001b[0m\u001b[0;34m\u001b[0m\u001b[0;34m\u001b[0m\u001b[0m\n\u001b[1;32m     30\u001b[0m \u001b[0;34m\u001b[0m\u001b[0m\n\u001b[0;32m---> 31\u001b[0;31m         \u001b[0moptimizer\u001b[0m\u001b[0;34m.\u001b[0m\u001b[0mstep\u001b[0m\u001b[0;34m(\u001b[0m\u001b[0;34m)\u001b[0m\u001b[0;34m\u001b[0m\u001b[0;34m\u001b[0m\u001b[0m\n\u001b[0m\u001b[1;32m     32\u001b[0m \u001b[0;34m\u001b[0m\u001b[0m\n\u001b[1;32m     33\u001b[0m     \u001b[0mtest_preds\u001b[0m \u001b[0;34m=\u001b[0m \u001b[0mmnist_net\u001b[0m\u001b[0;34m.\u001b[0m\u001b[0mforward\u001b[0m\u001b[0;34m(\u001b[0m\u001b[0mX_test\u001b[0m\u001b[0;34m)\u001b[0m\u001b[0;34m\u001b[0m\u001b[0;34m\u001b[0m\u001b[0m\n",
            "\u001b[0;32m/usr/local/lib/python3.6/dist-packages/torch/autograd/grad_mode.py\u001b[0m in \u001b[0;36mdecorate_context\u001b[0;34m(*args, **kwargs)\u001b[0m\n\u001b[1;32m     13\u001b[0m         \u001b[0;32mdef\u001b[0m \u001b[0mdecorate_context\u001b[0m\u001b[0;34m(\u001b[0m\u001b[0;34m*\u001b[0m\u001b[0margs\u001b[0m\u001b[0;34m,\u001b[0m \u001b[0;34m**\u001b[0m\u001b[0mkwargs\u001b[0m\u001b[0;34m)\u001b[0m\u001b[0;34m:\u001b[0m\u001b[0;34m\u001b[0m\u001b[0;34m\u001b[0m\u001b[0m\n\u001b[1;32m     14\u001b[0m             \u001b[0;32mwith\u001b[0m \u001b[0mself\u001b[0m\u001b[0;34m:\u001b[0m\u001b[0;34m\u001b[0m\u001b[0;34m\u001b[0m\u001b[0m\n\u001b[0;32m---> 15\u001b[0;31m                 \u001b[0;32mreturn\u001b[0m \u001b[0mfunc\u001b[0m\u001b[0;34m(\u001b[0m\u001b[0;34m*\u001b[0m\u001b[0margs\u001b[0m\u001b[0;34m,\u001b[0m \u001b[0;34m**\u001b[0m\u001b[0mkwargs\u001b[0m\u001b[0;34m)\u001b[0m\u001b[0;34m\u001b[0m\u001b[0;34m\u001b[0m\u001b[0m\n\u001b[0m\u001b[1;32m     16\u001b[0m         \u001b[0;32mreturn\u001b[0m \u001b[0mdecorate_context\u001b[0m\u001b[0;34m\u001b[0m\u001b[0;34m\u001b[0m\u001b[0m\n\u001b[1;32m     17\u001b[0m \u001b[0;34m\u001b[0m\u001b[0m\n",
            "\u001b[0;32m/usr/local/lib/python3.6/dist-packages/torch/optim/adam.py\u001b[0m in \u001b[0;36mstep\u001b[0;34m(self, closure)\u001b[0m\n\u001b[1;32m    105\u001b[0m                     \u001b[0mdenom\u001b[0m \u001b[0;34m=\u001b[0m \u001b[0;34m(\u001b[0m\u001b[0mmax_exp_avg_sq\u001b[0m\u001b[0;34m.\u001b[0m\u001b[0msqrt\u001b[0m\u001b[0;34m(\u001b[0m\u001b[0;34m)\u001b[0m \u001b[0;34m/\u001b[0m \u001b[0mmath\u001b[0m\u001b[0;34m.\u001b[0m\u001b[0msqrt\u001b[0m\u001b[0;34m(\u001b[0m\u001b[0mbias_correction2\u001b[0m\u001b[0;34m)\u001b[0m\u001b[0;34m)\u001b[0m\u001b[0;34m.\u001b[0m\u001b[0madd_\u001b[0m\u001b[0;34m(\u001b[0m\u001b[0mgroup\u001b[0m\u001b[0;34m[\u001b[0m\u001b[0;34m'eps'\u001b[0m\u001b[0;34m]\u001b[0m\u001b[0;34m)\u001b[0m\u001b[0;34m\u001b[0m\u001b[0;34m\u001b[0m\u001b[0m\n\u001b[1;32m    106\u001b[0m                 \u001b[0;32melse\u001b[0m\u001b[0;34m:\u001b[0m\u001b[0;34m\u001b[0m\u001b[0;34m\u001b[0m\u001b[0m\n\u001b[0;32m--> 107\u001b[0;31m                     \u001b[0mdenom\u001b[0m \u001b[0;34m=\u001b[0m \u001b[0;34m(\u001b[0m\u001b[0mexp_avg_sq\u001b[0m\u001b[0;34m.\u001b[0m\u001b[0msqrt\u001b[0m\u001b[0;34m(\u001b[0m\u001b[0;34m)\u001b[0m \u001b[0;34m/\u001b[0m \u001b[0mmath\u001b[0m\u001b[0;34m.\u001b[0m\u001b[0msqrt\u001b[0m\u001b[0;34m(\u001b[0m\u001b[0mbias_correction2\u001b[0m\u001b[0;34m)\u001b[0m\u001b[0;34m)\u001b[0m\u001b[0;34m.\u001b[0m\u001b[0madd_\u001b[0m\u001b[0;34m(\u001b[0m\u001b[0mgroup\u001b[0m\u001b[0;34m[\u001b[0m\u001b[0;34m'eps'\u001b[0m\u001b[0;34m]\u001b[0m\u001b[0;34m)\u001b[0m\u001b[0;34m\u001b[0m\u001b[0;34m\u001b[0m\u001b[0m\n\u001b[0m\u001b[1;32m    108\u001b[0m \u001b[0;34m\u001b[0m\u001b[0m\n\u001b[1;32m    109\u001b[0m                 \u001b[0mstep_size\u001b[0m \u001b[0;34m=\u001b[0m \u001b[0mgroup\u001b[0m\u001b[0;34m[\u001b[0m\u001b[0;34m'lr'\u001b[0m\u001b[0;34m]\u001b[0m \u001b[0;34m/\u001b[0m \u001b[0mbias_correction1\u001b[0m\u001b[0;34m\u001b[0m\u001b[0;34m\u001b[0m\u001b[0m\n",
            "\u001b[0;31mKeyboardInterrupt\u001b[0m: "
          ]
        }
      ]
    },
    {
      "cell_type": "code",
      "metadata": {
        "id": "NIJFvic3FXTt",
        "colab_type": "code",
        "colab": {
          "base_uri": "https://localhost:8080/",
          "height": 265
        },
        "outputId": "ab7e7bea-9da1-4d24-c226-1220dc9db877"
      },
      "source": [
        "import pylab\n",
        "from matplotlib import mlab\n",
        "\n",
        "plt.plot(test_accuracy_history)\n",
        "plt.plot(train_accuracy_history)\n",
        "plt.plot(test_loss_history);\n",
        "plt.plot(train_loss_history);"
      ],
      "execution_count": null,
      "outputs": [
        {
          "output_type": "display_data",
          "data": {
            "image/png": "[encoded data removed]",
            "text/plain": [
              "<Figure size 432x288 with 1 Axes>"
            ]
          },
          "metadata": {
            "tags": [],
            "needs_background": "light"
          }
        }
      ]
    },
    {
      "cell_type": "code",
      "metadata": {
        "id": "Tk9usQL7FcEl",
        "colab_type": "code",
        "colab": {}
      },
      "source": [
        ""
      ],
      "execution_count": null,
      "outputs": []
    }
  ]
}