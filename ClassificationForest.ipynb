{
  "nbformat": 4,
  "nbformat_minor": 0,
  "metadata": {
    "colab": {
      "name": "ClassificationForest.ipynb",
      "provenance": [],
      "collapsed_sections": [],
      "authorship_tag": "ABX9TyMMeuuMscryAzf6l0HwZYHY",
      "include_colab_link": true
    },
    "kernelspec": {
      "name": "python3",
      "display_name": "Python 3"
    },
    "accelerator": "GPU"
  },
  "cells": [
    {
      "cell_type": "markdown",
      "metadata": {
        "id": "view-in-github",
        "colab_type": "text"
      },
      "source": [
        "<a href=\"https://colab.research.google.com/github/KodakV/train_datasets/blob/master/ClassificationForest.ipynb\" target=\"_parent\"><img src=\"https://colab.research.google.com/assets/colab-badge.svg\" alt=\"Open In Colab\"/></a>"
      ]
    },
    {
      "cell_type": "code",
      "metadata": {
        "id": "G314MXz0IamY",
        "colab_type": "code",
        "colab": {}
      },
      "source": [
        "import torch\n",
        "import numpy as np\n",
        "import random\n",
        "import pandas as  pd\n",
        "random.seed(8)\n",
        "np.random.seed(8)\n",
        "torch.manual_seed(8)\n",
        "torch.cuda.manual_seed(8)\n",
        "torch.backends.cudnn.deteministic=True"
      ],
      "execution_count": null,
      "outputs": []
    },
    {
      "cell_type": "code",
      "metadata": {
        "id": "3cPRGvlf1I4W",
        "colab_type": "code",
        "colab": {
          "base_uri": "https://localhost:8080/",
          "height": 35
        },
        "outputId": "d732f776-c680-475b-95d2-41cf4621aacd"
      },
      "source": [
        "torch.cuda.is_available()"
      ],
      "execution_count": null,
      "outputs": [
        {
          "output_type": "execute_result",
          "data": {
            "text/plain": [
              "True"
            ]
          },
          "metadata": {
            "tags": []
          },
          "execution_count": 5
        }
      ]
    },
    {
      "cell_type": "code",
      "metadata": {
        "id": "NnoTEBO7SrIa",
        "colab_type": "code",
        "colab": {}
      },
      "source": [
        "\n",
        "df=pd.read_csv('/content/forest_dataset.csv')"
      ],
      "execution_count": null,
      "outputs": []
    },
    {
      "cell_type": "code",
      "metadata": {
        "id": "aHAOGUw3SyKU",
        "colab_type": "code",
        "colab": {
          "base_uri": "https://localhost:8080/",
          "height": 132
        },
        "outputId": "3d8abcdc-95c0-4ea5-b2f7-b8d789d61091"
      },
      "source": [
        "from sklearn.model_selection import train_test_split\n",
        "df['54']=df['54'] -1\n",
        "n_coloumn=53\n",
        "X_train,X_test, y_train, y_test=train_test_split(df.iloc[:,:n_coloumn],df['54'],test_size=0.2,shuffle=True)\n",
        "X_train=torch.FloatTensor(X_train.values)\n",
        "X_test=torch.FloatTensor(X_test.values)\n",
        "y_train=torch.LongTensor(y_train.values)\n",
        "y_test=torch.LongTensor(y_test.values)\n",
        "\n"
      ],
      "execution_count": null,
      "outputs": [
        {
          "output_type": "error",
          "ename": "SyntaxError",
          "evalue": "ignored",
          "traceback": [
            "\u001b[0;36m  File \u001b[0;32m\"<ipython-input-12-7abf9f469ad9>\"\u001b[0;36m, line \u001b[0;32m11\u001b[0m\n\u001b[0;31m    print(df.fillna('',inplace=True)\u001b[0m\n\u001b[0m                                    ^\u001b[0m\n\u001b[0;31mSyntaxError\u001b[0m\u001b[0;31m:\u001b[0m unexpected EOF while parsing\n"
          ]
        }
      ]
    },
    {
      "cell_type": "code",
      "metadata": {
        "id": "NfqESfLyTaKW",
        "colab_type": "code",
        "colab": {}
      },
      "source": [
        "class ForestNet(torch.nn.Module):\n",
        "  def __init__(self,neurons, enter_x=53):\n",
        "    super(ForestNet,self).__init__()\n",
        "    self.fc1=torch.nn.Linear(enter_x,neurons)\n",
        "    self.ac1=torch.nn.Sigmoid()\n",
        "    self.fc2=torch.nn.Linear(neurons,neurons//2)\n",
        "    self.ac2=torch.nn.ReLU()\n",
        "    self.fc4=torch.nn.Linear(neurons//2,7)\n",
        "    self.sm=torch.nn.Softmax(dim=1)\n",
        "\n",
        "  def forward(self,x):\n",
        "    x=self.fc1(x)\n",
        "    x=self.ac1(x)\n",
        "    x=self.fc2(x)\n",
        "    x=self.ac2(x)\n",
        "    x=self.fc4(x)\n",
        "\n",
        "    return x\n",
        "  \n",
        "  def inference(self,x):\n",
        "    x=self.forward(x)\n",
        "    x=self.sm(x)\n",
        "    return x\n"
      ],
      "execution_count": null,
      "outputs": []
    },
    {
      "cell_type": "code",
      "metadata": {
        "id": "YdvObUY5XBY7",
        "colab_type": "code",
        "colab": {}
      },
      "source": [
        "forest_net=ForestNet(2500,n_coloumn)\n",
        "\n",
        "loss=torch.nn.CrossEntropyLoss()\n",
        "optimizer=torch.optim.Adam(forest_net.parameters(),lr=0.001)\n",
        "scheduler = torch.optim.lr_scheduler.StepLR(optimizer, step_size=30, gamma=0.90)\n"
      ],
      "execution_count": null,
      "outputs": []
    },
    {
      "cell_type": "code",
      "metadata": {
        "id": "aX4suk8l1gZr",
        "colab_type": "code",
        "colab": {}
      },
      "source": [
        "\n",
        "device=torch.device('cuda:0' if torch.cuda.is_available() else 'cpu')\n",
        "forest_net=forest_net.to(device)"
      ],
      "execution_count": null,
      "outputs": []
    },
    {
      "cell_type": "code",
      "metadata": {
        "id": "LyR6tHFDZhzZ",
        "colab_type": "code",
        "colab": {
          "base_uri": "https://localhost:8080/",
          "height": 1000
        },
        "outputId": "b3a231db-f2a9-497e-9463-c54b33c723e2"
      },
      "source": [
        "test_accuracy_history = []\n",
        "test_loss_history = []\n",
        "\n",
        "train_accuracy_history = []\n",
        "train_loss_history = []\n",
        "\n",
        "\n",
        "X_test = X_test.to(device)\n",
        "y_test = y_test.to(device)\n",
        "X_train=X_train.to(device)\n",
        "y_train=y_train.to(device)\n",
        "\n",
        "batch_size=2048\n",
        "for epoch in range(600):\n",
        "  order=np.random.permutation(len(X_train))\n",
        "  scheduler.step()\n",
        "  for start_index in range(0, len(X_train),batch_size):\n",
        "    optimizer.zero_grad()\n",
        "    batch_indexes=order[start_index:start_index+batch_size]\n",
        "    x_batch=X_train[batch_indexes].to(device)\n",
        "    y_batch=y_train[batch_indexes].to(device)\n",
        "    preds=forest_net.forward(x_batch)\n",
        "\n",
        "    loss_val=loss(preds,y_batch)\n",
        "    loss_val.backward()\n",
        "\n",
        "    optimizer.step()\n",
        "\n",
        "   \n",
        "  if (epoch % 10) == 0:\n",
        "    test_preds = forest_net.forward(X_test)\n",
        "    test_loss_history.append(loss(test_preds, y_test))\n",
        "    \n",
        "    train_preds = forest_net.forward(X_train)\n",
        "    train_loss_history.append(loss(train_preds, y_train))\n",
        "    \n",
        "    accuracy_test = (test_preds.argmax(dim=1) == y_test).float().mean()\n",
        "    accuracy_train = (train_preds.argmax(dim=1) == y_train).float().mean()\n",
        "    test_accuracy_history.append(accuracy_test)\n",
        "    train_accuracy_history.append(accuracy_train)\n",
        "    print(accuracy_test)"
      ],
      "execution_count": null,
      "outputs": [
        {
          "output_type": "stream",
          "text": [
            "/usr/local/lib/python3.6/dist-packages/torch/optim/lr_scheduler.py:123: UserWarning: Detected call of `lr_scheduler.step()` before `optimizer.step()`. In PyTorch 1.1.0 and later, you should call them in the opposite order: `optimizer.step()` before `lr_scheduler.step()`.  Failure to do this will result in PyTorch skipping the first value of the learning rate schedule. See more details at https://pytorch.org/docs/stable/optim.html#how-to-adjust-learning-rate\n",
            "  \"https://pytorch.org/docs/stable/optim.html#how-to-adjust-learning-rate\", UserWarning)\n"
          ],
          "name": "stderr"
        },
        {
          "output_type": "stream",
          "text": [
            "tensor(0.4820, device='cuda:0')\n",
            "tensor(0.5210, device='cuda:0')\n",
            "tensor(0.5600, device='cuda:0')\n",
            "tensor(0.6280, device='cuda:0')\n",
            "tensor(0.6670, device='cuda:0')\n",
            "tensor(0.6835, device='cuda:0')\n",
            "tensor(0.6960, device='cuda:0')\n",
            "tensor(0.7155, device='cuda:0')\n",
            "tensor(0.7130, device='cuda:0')\n",
            "tensor(0.7205, device='cuda:0')\n",
            "tensor(0.7210, device='cuda:0')\n",
            "tensor(0.7325, device='cuda:0')\n",
            "tensor(0.7340, device='cuda:0')\n",
            "tensor(0.7215, device='cuda:0')\n",
            "tensor(0.7425, device='cuda:0')\n",
            "tensor(0.7355, device='cuda:0')\n",
            "tensor(0.7415, device='cuda:0')\n",
            "tensor(0.7390, device='cuda:0')\n",
            "tensor(0.7280, device='cuda:0')\n",
            "tensor(0.7415, device='cuda:0')\n",
            "tensor(0.7395, device='cuda:0')\n",
            "tensor(0.7505, device='cuda:0')\n",
            "tensor(0.7515, device='cuda:0')\n",
            "tensor(0.7300, device='cuda:0')\n",
            "tensor(0.7525, device='cuda:0')\n",
            "tensor(0.7495, device='cuda:0')\n",
            "tensor(0.7505, device='cuda:0')\n",
            "tensor(0.7475, device='cuda:0')\n",
            "tensor(0.7460, device='cuda:0')\n",
            "tensor(0.7470, device='cuda:0')\n",
            "tensor(0.7560, device='cuda:0')\n",
            "tensor(0.7520, device='cuda:0')\n",
            "tensor(0.7530, device='cuda:0')\n",
            "tensor(0.7515, device='cuda:0')\n",
            "tensor(0.7535, device='cuda:0')\n",
            "tensor(0.7540, device='cuda:0')\n",
            "tensor(0.7545, device='cuda:0')\n",
            "tensor(0.7510, device='cuda:0')\n",
            "tensor(0.7515, device='cuda:0')\n",
            "tensor(0.7560, device='cuda:0')\n",
            "tensor(0.7515, device='cuda:0')\n",
            "tensor(0.7495, device='cuda:0')\n",
            "tensor(0.7540, device='cuda:0')\n",
            "tensor(0.7530, device='cuda:0')\n",
            "tensor(0.7585, device='cuda:0')\n",
            "tensor(0.7500, device='cuda:0')\n",
            "tensor(0.7540, device='cuda:0')\n",
            "tensor(0.7520, device='cuda:0')\n",
            "tensor(0.7535, device='cuda:0')\n",
            "tensor(0.7590, device='cuda:0')\n",
            "tensor(0.7555, device='cuda:0')\n",
            "tensor(0.7465, device='cuda:0')\n",
            "tensor(0.7555, device='cuda:0')\n",
            "tensor(0.7530, device='cuda:0')\n",
            "tensor(0.7535, device='cuda:0')\n",
            "tensor(0.7565, device='cuda:0')\n",
            "tensor(0.7560, device='cuda:0')\n",
            "tensor(0.7550, device='cuda:0')\n",
            "tensor(0.7555, device='cuda:0')\n",
            "tensor(0.7460, device='cuda:0')\n"
          ],
          "name": "stdout"
        }
      ]
    },
    {
      "cell_type": "code",
      "metadata": {
        "id": "VnbQV65U9AMH",
        "colab_type": "code",
        "colab": {
          "base_uri": "https://localhost:8080/",
          "height": 298
        },
        "outputId": "d720daa1-aa9e-4c11-eed6-f51cb26f2944"
      },
      "source": [
        "import matplotlib.pyplot as plt\n",
        "import pylab\n",
        "pylab.subplot(1,2,1)\n",
        "plt.plot(test_accuracy_history, label='test_accuracy')\n",
        "plt.plot(train_accuracy_history, label='train_accuracy')\n",
        "plt.title('accuracy')\n",
        "plt.legend()\n",
        "pylab.subplot(1,2,2)\n",
        "plt.plot(test_loss_history, label='test_loss')\n",
        "plt.plot(train_loss_history, label='train_loss')\n",
        "plt.title('loss')\n",
        "plt.legend()"
      ],
      "execution_count": null,
      "outputs": [
        {
          "output_type": "execute_result",
          "data": {
            "text/plain": [
              "<matplotlib.legend.Legend at 0x7f962638b710>"
            ]
          },
          "metadata": {
            "tags": []
          },
          "execution_count": 9
        },
        {
          "output_type": "display_data",
          "data": {
            "image/png": "[encoded data removed]",
            "text/plain": [
              "<Figure size 432x288 with 2 Axes>"
            ]
          },
          "metadata": {
            "tags": [],
            "needs_background": "light"
          }
        }
      ]
    },
    {
      "cell_type": "code",
      "metadata": {
        "id": "LNWlWTe-ctgz",
        "colab_type": "code",
        "colab": {
          "base_uri": "https://localhost:8080/",
          "height": 289
        },
        "outputId": "0414e73f-e743-43df-a65f-aa32962a3c6b"
      },
      "source": [
        "# from sklearn.metrics import classification_report  \n",
        "# from sklearn.metrics import accuracy_score  \n",
        "# from sklearn.neighbors import KNeighborsClassifier  \n",
        "# from sklearn.ensemble import RandomForestClassifier\n",
        "# from sklearn.linear_model import LogisticRegression\n",
        "# from sklearn.metrics import accuracy_score\n",
        "# df=pd.read_csv('/content/forest_dataset.csv')\n",
        "# X_train,X_test, y_train, y_test=train_test_split(df.iloc[:,:n_coloumn],df.iloc[:,54:55],test_size=0.2,shuffle=True)\n",
        "\n",
        "\n",
        "# knc = KNeighborsClassifier(n_neighbors = 5)\n",
        "# knc.fit(X_train,y_train)\n",
        "# y_pred=knc.predict(X_test)\n",
        "# # print(accuracy_score(y_test,y_pred))\n",
        "# print(classification_report(y_test,y_pred))\n",
        "\n",
        "\n",
        "# # frt = RandomForestClassifier(n_estimators = 10)\n",
        "# # frt.fit(X_train,y_train)\n",
        "# # y_pred=frt.predict(X_test)\n",
        "# # print(accuracy_score(y_test,y_pred))\n",
        "# # print(classification_report(y_test,y_pred))\n",
        "\n",
        "# # lr = LogisticRegression()\n",
        "# # lr.fit(X_train,y_train)\n",
        "# # y_pred=lr.predict(X_test)\n",
        "# # print(accuracy_score(y_test,y_pred))\n",
        "# # print(classification_report(y_test,y_pred))\n",
        "\n",
        "\n",
        "\n",
        "\n"
      ],
      "execution_count": null,
      "outputs": [
        {
          "output_type": "stream",
          "text": [
            "              precision    recall  f1-score   support\n",
            "\n",
            "           1       0.74      0.74      0.74       732\n",
            "           2       0.76      0.84      0.80       977\n",
            "           3       0.70      0.63      0.67       128\n",
            "           4       0.33      0.67      0.44         3\n",
            "           5       0.43      0.10      0.16        30\n",
            "           6       0.69      0.39      0.50        70\n",
            "           7       0.83      0.32      0.46        60\n",
            "\n",
            "    accuracy                           0.75      2000\n",
            "   macro avg       0.64      0.53      0.54      2000\n",
            "weighted avg       0.74      0.75      0.74      2000\n",
            "\n"
          ],
          "name": "stdout"
        },
        {
          "output_type": "stream",
          "text": [
            "/usr/local/lib/python3.6/dist-packages/ipykernel_launcher.py:12: DataConversionWarning: A column-vector y was passed when a 1d array was expected. Please change the shape of y to (n_samples, ), for example using ravel().\n",
            "  if sys.path[0] == '':\n"
          ],
          "name": "stderr"
        }
      ]
    }
  ]
}